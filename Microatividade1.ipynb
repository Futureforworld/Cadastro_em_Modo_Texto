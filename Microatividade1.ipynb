{
  "nbformat": 4,
  "nbformat_minor": 0,
  "metadata": {
    "colab": {
      "provenance": [],
      "authorship_tag": "ABX9TyOAOTnYW+bN4lEODHNqEh9T",
      "include_colab_link": true
    },
    "kernelspec": {
      "name": "python3",
      "display_name": "Python 3"
    },
    "language_info": {
      "name": "python"
    }
  },
  "cells": [
    {
      "cell_type": "markdown",
      "metadata": {
        "id": "view-in-github",
        "colab_type": "text"
      },
      "source": [
        "<a href=\"https://colab.research.google.com/github/Futureforworld/Cadastro_em_Modo_Texto/blob/main/Microatividade1.ipynb\" target=\"_parent\"><img src=\"https://colab.research.google.com/assets/colab-badge.svg\" alt=\"Open In Colab\"/></a>"
      ]
    },
    {
      "cell_type": "code",
      "execution_count": 1,
      "metadata": {
        "colab": {
          "base_uri": "https://localhost:8080/"
        },
        "id": "wYSsgUlGpi9E",
        "outputId": "0c5fd558-45ee-47f9-d38f-dae3958f4d1a"
      },
      "outputs": [
        {
          "output_type": "stream",
          "name": "stdout",
          "text": [
            "Olá, este é meu primeiro código no Google Colab!\n"
          ]
        }
      ],
      "source": [
        "print(\"Olá, este é meu primeiro código no Google Colab!\")\n"
      ]
    },
    {
      "cell_type": "code",
      "source": [
        "a = 10\n",
        "b = 20\n",
        "soma = a + b\n",
        "print(\"A soma de a + b é:\", soma)\n"
      ],
      "metadata": {
        "colab": {
          "base_uri": "https://localhost:8080/"
        },
        "id": "QOg0RBacq2ev",
        "outputId": "dcbbecfa-4fd9-4c7e-f2fc-cd9069c285a0"
      },
      "execution_count": 2,
      "outputs": [
        {
          "output_type": "stream",
          "name": "stdout",
          "text": [
            "A soma de a + b é: 30\n"
          ]
        }
      ]
    },
    {
      "cell_type": "markdown",
      "source": [
        "# Este é um bloco de texto\n",
        "**Aqui podemos escrever descrições ou explicações sobre o código.**\n"
      ],
      "metadata": {
        "id": "0eVQ5_Mtq9jH"
      }
    }
  ]
}